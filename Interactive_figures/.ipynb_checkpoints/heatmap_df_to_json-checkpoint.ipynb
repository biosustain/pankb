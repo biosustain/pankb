{
 "cells": [
  {
   "cell_type": "code",
   "execution_count": 1,
   "id": "38b13479",
   "metadata": {},
   "outputs": [],
   "source": [
    "import json\n",
    "import pandas as pd\n",
    "import time\n",
    "import numpy as np"
   ]
  },
  {
   "cell_type": "code",
   "execution_count": 2,
   "id": "acc33120",
   "metadata": {},
   "outputs": [],
   "source": [
    "org_dir = 'Lactiplantibacillus_plantarum'"
   ]
  },
  {
   "cell_type": "code",
   "execution_count": 93,
   "id": "56dd71d3",
   "metadata": {
    "scrolled": true
   },
   "outputs": [],
   "source": [
    "# load files\n",
    "apm_binary = pd.read_csv('./data/'+ org_dir + '/' + 'df_gene_presence_binary.csv', index_col = 0, low_memory = False).T\n",
    "apm_binary.index.names = ['genome_id']\n",
    "summary = pd.read_csv('./data/'+ org_dir + '/' + 'df_pangene_summary_v2.csv', index_col = 0, low_memory = False)\n",
    "annotation = pd.read_csv('./data/'+ org_dir + '/' + 'df_pangene_eggnog_summary.csv', index_col = 0, low_memory = False)\n",
    "locustag = pd.read_csv('./data/'+ org_dir + '/' + 'df_gene_presence_locustag.csv', index_col = 0, low_memory = False)\n",
    "phylo_group = pd.read_csv('./data/'+ org_dir + '/' + 'mash_list.csv', index_col = 0, low_memory = False)\n",
    "isolation_src = pd.read_csv(\"./data/source_info/df_ncbi_isolation_src.csv\", index_col = 0, low_memory = False)\n",
    "species_info = pd.read_csv(\"./data/source_info/df_ncbi_meta.csv\", index_col = 0 ,low_memory = False)\n",
    "species_info[\"genome_name\"] = species_info[\"genus\"]+\" \"+species_info[\"species\"]+\" \"+ species_info[\"strain\"]\n",
    "source = pd.merge(pd.merge(isolation_src.loc[list(locustag.columns),:], \n",
    "                  species_info.loc[species_info.index.isin(list(locustag.columns)),\"genome_name\"], \n",
    "                  on = [\"genome_id\"]), phylo_group, on = [\"genome_id\"]).sort_values(\"cluster\")\n",
    "locustag_ordered = locustag.loc[:,list(source.index)]"
   ]
  },
  {
   "cell_type": "code",
   "execution_count": 147,
   "id": "76818b80",
   "metadata": {},
   "outputs": [],
   "source": [
    "def filter_cluster(l):\n",
    "    top2 = pd.to_numeric(l).nlargest(2)\n",
    "    if top2[0] >= 0.8 and top2[1] <= 0.2:\n",
    "        return(pd.to_numeric(l).idxmax())\n",
    "    else:\n",
    "        return(False)\n",
    "    \n",
    "test = pd.merge(apm_binary.loc[list(source.index),:], source.cluster, on = ['genome_id'])\n",
    "test.columns.names = ['Gene']\n",
    "test_result = pd.merge(test.groupby(['cluster']).mean().T, summary['pangenome_class_2'], on = ['Gene'])\n",
    "test_result_final = test_result.loc[test_result['pangenome_class_2'] == 'Accessory', test_result.columns != 'pangenome_class_2']"
   ]
  },
  {
   "cell_type": "code",
   "execution_count": 148,
   "id": "efc8eb73",
   "metadata": {},
   "outputs": [
    {
     "data": {
      "text/plain": [
       "122"
      ]
     },
     "execution_count": 148,
     "metadata": {},
     "output_type": "execute_result"
    }
   ],
   "source": [
    "final = test_result_final.apply(filter_cluster, axis = 1)\n",
    "len(final[final != False])"
   ]
  },
  {
   "cell_type": "code",
   "execution_count": 77,
   "id": "73142892",
   "metadata": {},
   "outputs": [],
   "source": [
    "def rows(source):\n",
    "    source = source.replace(\"Missing\", \"undefined\")\n",
    "    \n",
    "    # get the genomes' name (index label)\n",
    "    genome = source.index\n",
    "    \n",
    "    genome_list = []\n",
    "    for i in range(len(genome)):\n",
    "        genome_list.append({\"name\":genome[i], \"meta\":[str(source.iloc[i,4])]})\n",
    "    return(genome_list)\n",
    "\n",
    "\n",
    "def cols(summary, annotation,locustag_ordered):\n",
    "    annotation[\"annotation_all\"] = annotation[\"Annotation\"] + \": \" + annotation[\"Description\"]\n",
    "    merged_df = pd.merge(annotation.loc[:,[\"PFAMs\",\"COG_category\",\"annotation_all\"]], summary['pangenome_class_2'], on = [\"Gene\"])\n",
    "    anno_list = merged_df.values.tolist()\n",
    "    \n",
    "    # get the number of genes and genomes and their name\n",
    "    gene_num = len(anno_list)\n",
    "    genome_num = len(locustag_ordered.columns)\n",
    "    gene_name = merged_df.index\n",
    "    genome_name = locustag_ordered.columns\n",
    "    gene_list = []\n",
    "    \n",
    "    for i in range(gene_num):\n",
    "        gene_list.append({\"name\":gene_name[i], \"meta\": merged_df.iloc[i,:].values.tolist()} )\n",
    "    return(gene_list)\n",
    "\n",
    "def matrix(apm_binary):\n",
    "    return(apm_binary.values.tolist())\n",
    "\n",
    "\n",
    "def source_info(source):\n",
    "    source = source.replace(\"Missing\", \"undefined\")\n",
    "    \n",
    "    # get the genomes' name (index label)\n",
    "    genome = source.index\n",
    "    \n",
    "    genome_dict = {}\n",
    "    for i in range(len(genome)):\n",
    "           genome_dict[str(genome[i])] = [str(source.iloc[i,1]), str(source.iloc[i,0]), str(source.iloc[i,3])]\n",
    "    return(genome_dict)"
   ]
  },
  {
   "cell_type": "code",
   "execution_count": 35,
   "id": "c6cf2206",
   "metadata": {
    "scrolled": true
   },
   "outputs": [],
   "source": [
    "locustag_final = locustag_ordered.replace(np.nan, \"undefined\")\n",
    "\n",
    "with open('./data/' + org_dir + '/locustag.json', 'w') as file:\n",
    "    json.dump(locustag_final.to_dict(), file)"
   ]
  },
  {
   "cell_type": "code",
   "execution_count": 50,
   "id": "ecd1708e",
   "metadata": {},
   "outputs": [],
   "source": [
    "with open('./data/' + org_dir + '/source_info.json', 'w') as file:\n",
    "    json.dump(source_info(source), file)"
   ]
  },
  {
   "cell_type": "code",
   "execution_count": 44,
   "id": "0fc2eb59",
   "metadata": {},
   "outputs": [
    {
     "name": "stdout",
     "output_type": "stream",
     "text": [
      "--- 7.671117067337036 seconds ---\n"
     ]
    }
   ],
   "source": [
    "start_time = time.time()\n",
    "\n",
    "result_dict = {\"rows\":rows(source),\n",
    "               \"cols\":cols(summary, annotation,locustag_ordered),\n",
    "               \"matrix\":matrix(apm_binary)}\n",
    "\n",
    "with open('./data/' + org_dir + '/heatmap.json', 'w') as file:\n",
    "    json.dump(result_dict, file)\n",
    "\n",
    "print(\"--- %s seconds ---\" % (time.time() - start_time))"
   ]
  }
 ],
 "metadata": {
  "kernelspec": {
   "display_name": "Python 3 (ipykernel)",
   "language": "python",
   "name": "python3"
  },
  "language_info": {
   "codemirror_mode": {
    "name": "ipython",
    "version": 3
   },
   "file_extension": ".py",
   "mimetype": "text/x-python",
   "name": "python",
   "nbconvert_exporter": "python",
   "pygments_lexer": "ipython3",
   "version": "3.9.13"
  }
 },
 "nbformat": 4,
 "nbformat_minor": 5
}
